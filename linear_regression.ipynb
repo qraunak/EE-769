{
 "cells": [
  {
   "cell_type": "code",
   "execution_count": 6,
   "id": "b4f6ab5a",
   "metadata": {},
   "outputs": [],
   "source": [
    "import numpy as np\n",
    "import pandas as pd"
   ]
  },
  {
   "cell_type": "markdown",
   "id": "78244d36",
   "metadata": {},
   "source": [
    "### 1. Write a function to generate a data matrix X. \n",
    "**Inputs**: Number of samples, feature dimension. \n",
    "\n",
    "**Output**: Data matrix X.\n"
   ]
  },
  {
   "cell_type": "code",
   "execution_count": 7,
   "id": "5dab5492",
   "metadata": {},
   "outputs": [],
   "source": [
    "def matrix_generator(sample_count, feature_dimension):\n",
    "    matrix = np.random.randint(100, size=(sample_count, feature_dimension))\n",
    "    return matrix"
   ]
  },
  {
   "cell_type": "markdown",
   "id": "68281a11",
   "metadata": {},
   "source": [
    "### 2. Write a function to generated dependent variable column t. \n",
    "**Inputs**: Data matrix X, weight vector for each column, bias w0, noise variance\n",
    "\n",
    "**Output**: Target vector t"
   ]
  },
  {
   "cell_type": "code",
   "execution_count": 8,
   "id": "0af466a9",
   "metadata": {},
   "outputs": [],
   "source": [
    "def column_generator(matrix, weight_vector, bais_w_0, noise_variance):\n",
    "    noise=np.random.normal(loc=0, scale= noise_variance, size= noise_variance.shape)\n",
    "#   weight_vector_transpose = weight_vector.transpose()\n",
    "    xw = np.dot( matrix, weight_vector )\n",
    "    return xw + bais_w_0 + noise\n"
   ]
  },
  {
   "cell_type": "markdown",
   "id": "ef8abce7",
   "metadata": {},
   "source": [
    "### Write a function to compute a linear regression estimate. \n",
    "\n",
    "**Input**: data matrix X and weight vector w\n",
    "\n",
    "**Output**: y"
   ]
  },
  {
   "cell_type": "code",
   "execution_count": 9,
   "id": "1d68e595",
   "metadata": {},
   "outputs": [],
   "source": [
    "def calculate_estimate_y(matrix, weight_vector):\n",
    "    return np.dot( matrix, weight_vector )"
   ]
  },
  {
   "cell_type": "markdown",
   "id": "23de60c3",
   "metadata": {},
   "source": [
    "### Write a function to compute the mean square error of two vectors y and t.\n"
   ]
  },
  {
   "cell_type": "code",
   "execution_count": 12,
   "id": "02ea6faa",
   "metadata": {},
   "outputs": [],
   "source": [
    "def mean_square_error(estimate_y, target_y):\n",
    "    return (np.square(estimate_y - target_y)).mean(axis=0)\n",
    "    "
   ]
  },
  {
   "cell_type": "markdown",
   "id": "2d372c0d",
   "metadata": {},
   "source": [
    "### Write a function to estimate the weights of linear regression using pseudo-inverse, assuming L2 regularization \n",
    "**Input**: X, t, and lambda\n",
    "\n",
    "**Output**: w, MSE, y"
   ]
  },
  {
   "cell_type": "code",
   "execution_count": 15,
   "id": "04693aea",
   "metadata": {},
   "outputs": [],
   "source": [
    "def estimate_weight(matrix, target_y , lambda_l2):\n",
    "    pass"
   ]
  },
  {
   "cell_type": "markdown",
   "id": "a81be0b5",
   "metadata": {},
   "source": [
    "### Write a function to compute the gradient of MSE with respect to its weight vector. \n",
    "**Input**: X matrix, t vector, and w vector\n",
    "\n",
    "**Output**: gradient vector"
   ]
  },
  {
   "cell_type": "markdown",
   "id": "0ebd23d4",
   "metadata": {},
   "source": [
    "### Write a function to compute L2 norm of a vector w passed as a numpy array. Exclude bias w0"
   ]
  },
  {
   "cell_type": "code",
   "execution_count": null,
   "id": "aa078c54",
   "metadata": {},
   "outputs": [],
   "source": [
    "def compute_l2_norm(weight_vector):\n",
    "    return np.linalg.norm(weight_vector, ord=2)"
   ]
  },
  {
   "cell_type": "code",
   "execution_count": 13,
   "id": "e0ae4875",
   "metadata": {},
   "outputs": [],
   "source": [
    "ROW = 3\n",
    "COLUMN = 5\n",
    "\n",
    "matrix = matrix_generator(ROW,COLUMN)\n",
    "weight_vector = matrix_generator(COLUMN, 1)\n",
    "noise_variance = matrix_generator(ROW, 1)\n",
    "bais_w_0 = matrix_generator(ROW, 1)\n",
    "target_y = column_generator(matrix, weight_vector, bais_w_0, noise_variance)\n",
    "estimate_y=calculate_estimate_y(matrix, weight_vector)\n",
    "mse=mean_square_error(estimate_y, target_y)"
   ]
  },
  {
   "cell_type": "code",
   "execution_count": 14,
   "id": "1e3189d3",
   "metadata": {},
   "outputs": [
    {
     "data": {
      "text/plain": [
       "array([2166.55043931])"
      ]
     },
     "execution_count": 14,
     "metadata": {},
     "output_type": "execute_result"
    }
   ],
   "source": [
    "mse"
   ]
  },
  {
   "cell_type": "code",
   "execution_count": 11,
   "id": "b80de19d",
   "metadata": {},
   "outputs": [
    {
     "data": {
      "text/plain": [
       "array([[11369],\n",
       "       [10538],\n",
       "       [11988]])"
      ]
     },
     "execution_count": 11,
     "metadata": {},
     "output_type": "execute_result"
    }
   ],
   "source": [
    "e"
   ]
  },
  {
   "cell_type": "code",
   "execution_count": null,
   "id": "c2db2f0e",
   "metadata": {},
   "outputs": [],
   "source": []
  }
 ],
 "metadata": {
  "kernelspec": {
   "display_name": "Python 3 (ipykernel)",
   "language": "python",
   "name": "python3"
  },
  "language_info": {
   "codemirror_mode": {
    "name": "ipython",
    "version": 3
   },
   "file_extension": ".py",
   "mimetype": "text/x-python",
   "name": "python",
   "nbconvert_exporter": "python",
   "pygments_lexer": "ipython3",
   "version": "3.9.7"
  }
 },
 "nbformat": 4,
 "nbformat_minor": 5
}
