{
 "cells": [
  {
   "cell_type": "code",
   "execution_count": 8,
   "id": "b4f6ab5a",
   "metadata": {},
   "outputs": [],
   "source": [
    "import numpy as np\n",
    "import pandas as pd"
   ]
  },
  {
   "cell_type": "markdown",
   "id": "78244d36",
   "metadata": {},
   "source": [
    "### 1. Write a function to generate a data matrix X. \n",
    "**Inputs**: Number of samples, feature dimension. \n",
    "\n",
    "**Output**: Data matrix X.\n"
   ]
  },
  {
   "cell_type": "code",
   "execution_count": 4,
   "id": "5dab5492",
   "metadata": {},
   "outputs": [],
   "source": [
    "def matrix_generator(sample_count, feature_dimension):\n",
    "    matrix = np.random.randint(100, size=(sample_count, feature_dimension))\n",
    "    return matrix"
   ]
  },
  {
   "cell_type": "markdown",
   "id": "68281a11",
   "metadata": {},
   "source": [
    "### 2. Write a function to generated dependent variable column t. \n",
    "**Inputs**: Data matrix X, weight vector for each column, bias w0, noise variance\n",
    "\n",
    "**Output**: Target vector t"
   ]
  },
  {
   "cell_type": "code",
   "execution_count": 17,
   "id": "0af466a9",
   "metadata": {},
   "outputs": [],
   "source": [
    "def column_generator(matrix, weight_vector, bais_w_0, noise_variance):\n",
    "    noise=np.random.normal(loc=0, scale= noise_variance, size= noise_variance.shape)\n",
    "#   weight_vector_transpose = weight_vector.transpose()\n",
    "    xw = np.dot( matrix, weight_vector )\n",
    "    return xw + bais_w_0 + noise"
   ]
  },
  {
   "cell_type": "code",
   "execution_count": 19,
   "id": "e0ae4875",
   "metadata": {},
   "outputs": [
    {
     "data": {
      "text/plain": [
       "array([[ 5962.25443118],\n",
       "       [17801.20876397],\n",
       "       [16231.49988196]])"
      ]
     },
     "execution_count": 19,
     "metadata": {},
     "output_type": "execute_result"
    }
   ],
   "source": [
    "ROW = 3\n",
    "COLUMN = 5\n",
    "\n",
    "matrix = matrix_generator(ROW,COLUMN)\n",
    "weight_vector = matrix_generator(COLUMN, 1)\n",
    "noise_variance = matrix_generator(ROW, 1)\n",
    "bais_w_0 = matrix_generator(ROW, 1)\n",
    "column_generator(matrix, weight_vector, bais_w_0, noise_variance)"
   ]
  },
  {
   "cell_type": "code",
   "execution_count": null,
   "id": "b80de19d",
   "metadata": {},
   "outputs": [],
   "source": []
  }
 ],
 "metadata": {
  "kernelspec": {
   "display_name": "Python 3 (ipykernel)",
   "language": "python",
   "name": "python3"
  },
  "language_info": {
   "codemirror_mode": {
    "name": "ipython",
    "version": 3
   },
   "file_extension": ".py",
   "mimetype": "text/x-python",
   "name": "python",
   "nbconvert_exporter": "python",
   "pygments_lexer": "ipython3",
   "version": "3.9.7"
  }
 },
 "nbformat": 4,
 "nbformat_minor": 5
}
