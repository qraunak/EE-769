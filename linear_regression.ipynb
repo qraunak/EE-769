{
 "cells": [
  {
   "cell_type": "code",
   "execution_count": 1,
   "id": "b4f6ab5a",
   "metadata": {},
   "outputs": [],
   "source": [
    "import numpy as np\n",
    "import pandas as pd"
   ]
  },
  {
   "cell_type": "markdown",
   "id": "78244d36",
   "metadata": {},
   "source": [
    "### 1. Write a function to generate a data matrix X. \n",
    "**Inputs**: Number of samples, feature dimension. \n",
    "\n",
    "**Output**: Data matrix X.\n"
   ]
  },
  {
   "cell_type": "code",
   "execution_count": 2,
   "id": "5dab5492",
   "metadata": {},
   "outputs": [],
   "source": [
    "def matrix_generator(sample_count, feature_dimension):\n",
    "    matrix = np.random.randint(100, size=(sample_count, feature_dimension))\n",
    "    return matrix"
   ]
  },
  {
   "cell_type": "markdown",
   "id": "68281a11",
   "metadata": {},
   "source": [
    "### 2. Write a function to generated dependent variable column t. \n",
    "**Inputs**: Data matrix X, weight vector for each column, bias w0, noise variance\n",
    "\n",
    "**Output**: Target vector t"
   ]
  },
  {
   "cell_type": "code",
   "execution_count": 3,
   "id": "0af466a9",
   "metadata": {},
   "outputs": [],
   "source": [
    "def column_generator(matrix, weight_vector, bais_w_0, noise_variance):\n",
    "    noise=np.random.normal(loc=0, scale= noise_variance, size= noise_variance.shape)\n",
    "#   weight_vector_transpose = weight_vector.transpose()\n",
    "    xw = np.dot( matrix, weight_vector )\n",
    "    return xw + bais_w_0 + noise\n"
   ]
  },
  {
   "cell_type": "markdown",
   "id": "c89eb281",
   "metadata": {},
   "source": [
    "### 3. Write a function to compute a linear regression estimate. \n",
    "\n",
    "**Input**: data matrix X and weight vector w\n",
    "\n",
    "**Output**: y"
   ]
  },
  {
   "cell_type": "code",
   "execution_count": 4,
   "id": "279b079d",
   "metadata": {},
   "outputs": [],
   "source": [
    "def calculate_estimate_y(matrix, weight_vector):\n",
    "    return np.dot( matrix, weight_vector )"
   ]
  },
  {
   "cell_type": "markdown",
   "id": "566e4766",
   "metadata": {},
   "source": [
    "### 4. Write a function to compute the mean square error of two vectors y and t.\n"
   ]
  },
  {
   "cell_type": "code",
   "execution_count": 5,
   "id": "9b715996",
   "metadata": {},
   "outputs": [],
   "source": [
    "def mean_square_error(estimate_y, target_y):\n",
    "    return (np.square(estimate_y - target_y)).mean(axis=0)\n",
    "    "
   ]
  },
  {
   "cell_type": "markdown",
   "id": "d2d13f76",
   "metadata": {},
   "source": [
    "### 5. Write a function to estimate the weights of linear regression using pseudo-inverse, assuming L2 regularization \n",
    "**Input**: X, t, and lambda\n",
    "\n",
    "**Output**: w, MSE, y"
   ]
  },
  {
   "cell_type": "code",
   "execution_count": 20,
   "id": "3d5117af",
   "metadata": {},
   "outputs": [],
   "source": [
    "def estimate_weight(matrix, target_y , lambda_l2):\n",
    "    transpose_matrix = matrix.transpose()\n",
    "    matrix_multiplication = np.dot(transpose_matrix , matrix)\n",
    "    identity_size = lambda_l2*np.identity(matrix_multiplication.shape[0])\n",
    "    add_matrix = identity_size + matrix_multiplication\n",
    "    add_matrix_inverse = np.linalg.inv(add_matrix)\n",
    "    matrix_multiplication_target_y = np.dot(transpose_matrix, target_y)\n",
    "    weight = np.dot(add_matrix_inverse , matrix_multiplication_target_y)\n",
    "    pridicted_y = np.dot(transpose_matrix, weight)\n",
    "    MSE= mean_square_error(pridicted_y, target_y)\n",
    "    return weight, MSE, pridicted_y"
   ]
  },
  {
   "cell_type": "markdown",
   "id": "89b91470",
   "metadata": {},
   "source": [
    "### 6. Write a function to compute the gradient of MSE with respect to its weight vector. \n",
    "**Input**: X matrix, t vector, and w vector\n",
    "\n",
    "**Output**: gradient vector"
   ]
  },
  {
   "cell_type": "code",
   "execution_count": null,
   "id": "348ba747",
   "metadata": {},
   "outputs": [],
   "source": [
    "def  compute_gradient_of_L2_norm(matrix, t_vector, w_vector):\n",
    "    gradient_list=[]\n",
    "    N=matrix.shape[0]\n",
    "    w_vector = w_vector.transpose()[0]\n",
    "    for i in range(N):\n",
    "        gc = (-2*matrix[i]*(t_vector[i] - np.dot(w_vector, matrix[i])))/N\n",
    "        gradient_list.append(gc)\n",
    "    return np.array(gradient_list)"
   ]
  },
  {
   "cell_type": "markdown",
   "id": "da1d2bc8",
   "metadata": {},
   "source": [
    "### Write a function to compute L2 norm of a vector w passed as a numpy array. Exclude bias w0"
   ]
  },
  {
   "cell_type": "code",
   "execution_count": 7,
   "id": "ab234a9d",
   "metadata": {},
   "outputs": [],
   "source": [
    "def compute_l2_norm(weight_vector):\n",
    "    return np.linalg.norm(weight_vector, ord=2)"
   ]
  },
  {
   "cell_type": "markdown",
   "id": "515d11c2",
   "metadata": {},
   "source": [
    "### Write a function to compute the gradient of L2 norm with respect to the weight vectors.\n",
    "\n",
    "**Input**: X matrix and w vector\n",
    "\n",
    "**Output**: gradient vector, where gradient with respect to w0 is 0."
   ]
  },
  {
   "cell_type": "code",
   "execution_count": 13,
   "id": "573dfbe5",
   "metadata": {},
   "outputs": [],
   "source": [
    "def  compute_gradient_of_L2_norm(matrix, vector):\n",
    "    pass\n",
    "    "
   ]
  },
  {
   "cell_type": "code",
   "execution_count": 14,
   "id": "e0ae4875",
   "metadata": {},
   "outputs": [],
   "source": [
    "ROW = 3\n",
    "COLUMN = 5\n",
    "\n",
    "matrix = matrix_generator(ROW,COLUMN)\n",
    "weight_vector = matrix_generator(COLUMN, 1)\n",
    "noise_variance = matrix_generator(ROW, 1)\n",
    "bais_w_0 = matrix_generator(ROW, 1)\n",
    "target_y = column_generator(matrix, weight_vector, bais_w_0, noise_variance)\n",
    "estimate_y=calculate_estimate_y(matrix, weight_vector)\n",
    "mse=mean_square_error(estimate_y, target_y)\n",
    "l2_norm=compute_l2_norm(weight_vector)"
   ]
  },
  {
   "cell_type": "code",
   "execution_count": 15,
   "id": "dbc18f73",
   "metadata": {},
   "outputs": [
    {
     "data": {
      "text/plain": [
       "129.06974858579372"
      ]
     },
     "execution_count": 15,
     "metadata": {},
     "output_type": "execute_result"
    }
   ],
   "source": [
    "l2_norm\n"
   ]
  },
  {
   "cell_type": "code",
   "execution_count": 19,
   "id": "f8812f74",
   "metadata": {},
   "outputs": [
    {
     "data": {
      "text/plain": [
       "array([[56, 91, 85, 79, 76],\n",
       "       [28, 36, 48, 69, 31],\n",
       "       [61,  1, 91, 74, 30]])"
      ]
     },
     "execution_count": 19,
     "metadata": {},
     "output_type": "execute_result"
    }
   ],
   "source": [
    "matrix"
   ]
  },
  {
   "cell_type": "code",
   "execution_count": 17,
   "id": "3a4d067e",
   "metadata": {},
   "outputs": [],
   "source": [
    "mat = 2*matrix"
   ]
  },
  {
   "cell_type": "code",
   "execution_count": 18,
   "id": "03366a70",
   "metadata": {},
   "outputs": [
    {
     "data": {
      "text/plain": [
       "array([[112, 182, 170, 158, 152],\n",
       "       [ 56,  72,  96, 138,  62],\n",
       "       [122,   2, 182, 148,  60]])"
      ]
     },
     "execution_count": 18,
     "metadata": {},
     "output_type": "execute_result"
    }
   ],
   "source": [
    "mat\n"
   ]
  },
  {
   "cell_type": "code",
   "execution_count": null,
   "id": "aed0e532",
   "metadata": {},
   "outputs": [],
   "source": []
  }
 ],
 "metadata": {
  "kernelspec": {
   "display_name": "Python 3 (ipykernel)",
   "language": "python",
   "name": "python3"
  },
  "language_info": {
   "codemirror_mode": {
    "name": "ipython",
    "version": 3
   },
   "file_extension": ".py",
   "mimetype": "text/x-python",
   "name": "python",
   "nbconvert_exporter": "python",
   "pygments_lexer": "ipython3",
   "version": "3.9.7"
  }
 },
 "nbformat": 4,
 "nbformat_minor": 5
}
